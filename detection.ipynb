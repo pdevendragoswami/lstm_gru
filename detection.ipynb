{
 "cells": [
  {
   "cell_type": "code",
   "execution_count": 1,
   "id": "d669fb8f",
   "metadata": {},
   "outputs": [],
   "source": [
    "import numpy as np\n",
    "import pickle\n",
    "import tensorflow\n",
    "from tensorflow.keras.preprocessing.sequence import pad_sequences\n",
    "from tensorflow.keras.models import load_model"
   ]
  },
  {
   "cell_type": "code",
   "execution_count": 2,
   "id": "8bfb4566",
   "metadata": {},
   "outputs": [
    {
     "name": "stderr",
     "output_type": "stream",
     "text": [
      "WARNING:absl:Compiled the loaded model, but the compiled metrics have yet to be built. `model.compile_metrics` will be empty until you train or evaluate the model.\n"
     ]
    }
   ],
   "source": [
    "#loading the model and tokenizer\n",
    "with open(\"tokenizer.pkl\",\"rb\")  as file:\n",
    "    tokenizer = pickle.load(file)\n",
    "\n",
    "model = load_model(\"lstm_grp.h5\")"
   ]
  },
  {
   "cell_type": "code",
   "execution_count": 3,
   "id": "9cb7b5df",
   "metadata": {},
   "outputs": [
    {
     "data": {
      "text/plain": [
       "14"
      ]
     },
     "execution_count": 3,
     "metadata": {},
     "output_type": "execute_result"
    }
   ],
   "source": [
    "max_sequence_len = model.input_shape[1]+1\n",
    "max_sequence_len"
   ]
  },
  {
   "cell_type": "code",
   "execution_count": 4,
   "id": "c9ecd395",
   "metadata": {},
   "outputs": [],
   "source": [
    "#prediction\n",
    "#function to predict the next word\n",
    "\n",
    "def predict_next_word(model,tokenizer,sentence,max_sequence_len):\n",
    "    token_list = tokenizer.texts_to_sequences([sentence])[0]\n",
    "    if len(token_list)>=max_sequence_len:\n",
    "        token_list = token_list[-(max_sequence_len-1)]\n",
    "    token_list = pad_sequences([token_list],maxlen=max_sequence_len,padding=\"pre\")\n",
    "    predicted  = model.predict(token_list)\n",
    "    predicted_word_index = np.argmax(predicted,axis=1)\n",
    "    for word,index in tokenizer.word_index.items():\n",
    "        if index == predicted_word_index:\n",
    "            return word\n",
    "    return None "
   ]
  },
  {
   "cell_type": "code",
   "execution_count": 5,
   "id": "c972c85c",
   "metadata": {},
   "outputs": [
    {
     "name": "stdout",
     "output_type": "stream",
     "text": [
      "Input text: to be or not to be\n",
      "\u001b[1m1/1\u001b[0m \u001b[32m━━━━━━━━━━━━━━━━━━━━\u001b[0m\u001b[37m\u001b[0m \u001b[1m0s\u001b[0m 277ms/step\n",
      "Next word predicted : that\n"
     ]
    }
   ],
   "source": [
    "input_text = \"to be or not to be\"\n",
    "\n",
    "print(f\"Input text: {input_text}\")\n",
    "max_sequence_len = model.input_shape[1]+1\n",
    "next_word = predict_next_word(model,tokenizer,input_text,max_sequence_len)\n",
    "print(f\"Next word predicted : {next_word}\")"
   ]
  },
  {
   "cell_type": "code",
   "execution_count": 6,
   "id": "f83c804a",
   "metadata": {},
   "outputs": [
    {
     "name": "stdout",
     "output_type": "stream",
     "text": [
      "Input text: to be bad is worthy than\n",
      "\u001b[1m1/1\u001b[0m \u001b[32m━━━━━━━━━━━━━━━━━━━━\u001b[0m\u001b[37m\u001b[0m \u001b[1m0s\u001b[0m 48ms/step\n",
      "Next word predicted : and\n"
     ]
    }
   ],
   "source": [
    "input_text = \"to be bad is worthy than\"\n",
    "\n",
    "print(f\"Input text: {input_text}\")\n",
    "max_sequence_len = model.input_shape[1]+1\n",
    "next_word = predict_next_word(model,tokenizer,input_text,max_sequence_len)\n",
    "print(f\"Next word predicted : {next_word}\")"
   ]
  }
 ],
 "metadata": {
  "kernelspec": {
   "display_name": "nlp_venv",
   "language": "python",
   "name": "python3"
  },
  "language_info": {
   "codemirror_mode": {
    "name": "ipython",
    "version": 3
   },
   "file_extension": ".py",
   "mimetype": "text/x-python",
   "name": "python",
   "nbconvert_exporter": "python",
   "pygments_lexer": "ipython3",
   "version": "3.11.9"
  }
 },
 "nbformat": 4,
 "nbformat_minor": 5
}
